{
  "nbformat": 4,
  "nbformat_minor": 0,
  "metadata": {
    "colab": {
      "name": "QuoraProject.ipynb",
      "version": "0.3.2",
      "provenance": [],
      "toc_visible": true,
      "include_colab_link": true
    },
    "kernelspec": {
      "name": "python3",
      "display_name": "Python 3"
    },
    "accelerator": "GPU"
  },
  "cells": [
    {
      "cell_type": "markdown",
      "metadata": {
        "id": "view-in-github",
        "colab_type": "text"
      },
      "source": [
        "<a href=\"https://colab.research.google.com/github/bryanZc/Quora-Similar-Question-Detection/blob/master/QuoraProject.ipynb\" target=\"_parent\"><img src=\"https://colab.research.google.com/assets/colab-badge.svg\" alt=\"Open In Colab\"/></a>"
      ]
    },
    {
      "metadata": {
        "id": "EDg4CSDS9S5D",
        "colab_type": "text"
      },
      "cell_type": "markdown",
      "source": [
        "# ANLY 580 Final Project\n",
        "## Quora Similar Question Pair Detection\n",
        "## Cheng Zhong"
      ]
    },
    {
      "metadata": {
        "id": "KTQ6ITGp9koK",
        "colab_type": "text"
      },
      "cell_type": "markdown",
      "source": [
        "### Data Preperation"
      ]
    },
    {
      "metadata": {
        "id": "y7C9OroNYz9u",
        "colab_type": "code",
        "outputId": "3007028a-8487-44a6-91cd-7e6949e97ff1",
        "colab": {
          "base_uri": "https://localhost:8080/",
          "height": 122
        }
      },
      "cell_type": "code",
      "source": [
        "import numpy as np\n",
        "import pandas as pd\n",
        "import os\n",
        "\n",
        "import matplotlib.pyplot as plt\n",
        "%matplotlib inline\n",
        "\n",
        "from google.colab import drive\n",
        "drive.mount('/content/drive')"
      ],
      "execution_count": 1,
      "outputs": [
        {
          "output_type": "stream",
          "text": [
            "Go to this URL in a browser: https://accounts.google.com/o/oauth2/auth?client_id=947318989803-6bn6qk8qdgf4n4g3pfee6491hc0brc4i.apps.googleusercontent.com&redirect_uri=urn%3Aietf%3Awg%3Aoauth%3A2.0%3Aoob&scope=email%20https%3A%2F%2Fwww.googleapis.com%2Fauth%2Fdocs.test%20https%3A%2F%2Fwww.googleapis.com%2Fauth%2Fdrive%20https%3A%2F%2Fwww.googleapis.com%2Fauth%2Fdrive.photos.readonly%20https%3A%2F%2Fwww.googleapis.com%2Fauth%2Fpeopleapi.readonly&response_type=code\n",
            "\n",
            "Enter your authorization code:\n",
            "··········\n",
            "Mounted at /content/drive\n"
          ],
          "name": "stdout"
        }
      ]
    },
    {
      "metadata": {
        "id": "A-FC2tNh9vKl",
        "colab_type": "code",
        "colab": {}
      },
      "cell_type": "code",
      "source": [
        "df_train = pd.read_csv(\"drive/My Drive/ANLY 580/train.csv\")"
      ],
      "execution_count": 0,
      "outputs": []
    },
    {
      "metadata": {
        "id": "S7jf3_cDAdLm",
        "colab_type": "code",
        "outputId": "1c7e99bf-ef3e-4889-d3d9-d55c88280e90",
        "colab": {
          "base_uri": "https://localhost:8080/",
          "height": 204
        }
      },
      "cell_type": "code",
      "source": [
        "df_train.head()"
      ],
      "execution_count": 3,
      "outputs": [
        {
          "output_type": "execute_result",
          "data": {
            "text/html": [
              "<div>\n",
              "<style scoped>\n",
              "    .dataframe tbody tr th:only-of-type {\n",
              "        vertical-align: middle;\n",
              "    }\n",
              "\n",
              "    .dataframe tbody tr th {\n",
              "        vertical-align: top;\n",
              "    }\n",
              "\n",
              "    .dataframe thead th {\n",
              "        text-align: right;\n",
              "    }\n",
              "</style>\n",
              "<table border=\"1\" class=\"dataframe\">\n",
              "  <thead>\n",
              "    <tr style=\"text-align: right;\">\n",
              "      <th></th>\n",
              "      <th>id</th>\n",
              "      <th>qid1</th>\n",
              "      <th>qid2</th>\n",
              "      <th>question1</th>\n",
              "      <th>question2</th>\n",
              "      <th>is_duplicate</th>\n",
              "    </tr>\n",
              "  </thead>\n",
              "  <tbody>\n",
              "    <tr>\n",
              "      <th>0</th>\n",
              "      <td>0</td>\n",
              "      <td>1</td>\n",
              "      <td>2</td>\n",
              "      <td>What is the step by step guide to invest in sh...</td>\n",
              "      <td>What is the step by step guide to invest in sh...</td>\n",
              "      <td>0</td>\n",
              "    </tr>\n",
              "    <tr>\n",
              "      <th>1</th>\n",
              "      <td>1</td>\n",
              "      <td>3</td>\n",
              "      <td>4</td>\n",
              "      <td>What is the story of Kohinoor (Koh-i-Noor) Dia...</td>\n",
              "      <td>What would happen if the Indian government sto...</td>\n",
              "      <td>0</td>\n",
              "    </tr>\n",
              "    <tr>\n",
              "      <th>2</th>\n",
              "      <td>2</td>\n",
              "      <td>5</td>\n",
              "      <td>6</td>\n",
              "      <td>How can I increase the speed of my internet co...</td>\n",
              "      <td>How can Internet speed be increased by hacking...</td>\n",
              "      <td>0</td>\n",
              "    </tr>\n",
              "    <tr>\n",
              "      <th>3</th>\n",
              "      <td>3</td>\n",
              "      <td>7</td>\n",
              "      <td>8</td>\n",
              "      <td>Why am I mentally very lonely? How can I solve...</td>\n",
              "      <td>Find the remainder when [math]23^{24}[/math] i...</td>\n",
              "      <td>0</td>\n",
              "    </tr>\n",
              "    <tr>\n",
              "      <th>4</th>\n",
              "      <td>4</td>\n",
              "      <td>9</td>\n",
              "      <td>10</td>\n",
              "      <td>Which one dissolve in water quikly sugar, salt...</td>\n",
              "      <td>Which fish would survive in salt water?</td>\n",
              "      <td>0</td>\n",
              "    </tr>\n",
              "  </tbody>\n",
              "</table>\n",
              "</div>"
            ],
            "text/plain": [
              "   id  qid1  qid2                                          question1  \\\n",
              "0   0     1     2  What is the step by step guide to invest in sh...   \n",
              "1   1     3     4  What is the story of Kohinoor (Koh-i-Noor) Dia...   \n",
              "2   2     5     6  How can I increase the speed of my internet co...   \n",
              "3   3     7     8  Why am I mentally very lonely? How can I solve...   \n",
              "4   4     9    10  Which one dissolve in water quikly sugar, salt...   \n",
              "\n",
              "                                           question2  is_duplicate  \n",
              "0  What is the step by step guide to invest in sh...             0  \n",
              "1  What would happen if the Indian government sto...             0  \n",
              "2  How can Internet speed be increased by hacking...             0  \n",
              "3  Find the remainder when [math]23^{24}[/math] i...             0  \n",
              "4            Which fish would survive in salt water?             0  "
            ]
          },
          "metadata": {
            "tags": []
          },
          "execution_count": 3
        }
      ]
    },
    {
      "metadata": {
        "id": "5zkS6h-WCDGq",
        "colab_type": "code",
        "outputId": "e3095a8c-f2e4-47d6-93cf-059beda6d127",
        "colab": {
          "base_uri": "https://localhost:8080/",
          "height": 434
        }
      },
      "cell_type": "code",
      "source": [
        "print('Total number of question pairs for training: {}'.format(len(df_train)))\n",
        "print('Duplicate pairs: {}%'.format(round(df_train['is_duplicate'].mean()*100, 2)))\n",
        "qids = pd.Series(df_train['qid1'].tolist() + df_train['qid2'].tolist())\n",
        "print('Total number of questions in the training data: {}'.format(len(\n",
        "    np.unique(qids))))\n",
        "print('Number of questions that appear multiple times: {}'.format(np.sum(qids.value_counts() > 1)))\n",
        "\n",
        "plt.figure(figsize=(12, 5))\n",
        "plt.hist(qids.value_counts(), bins=50)\n",
        "plt.yscale('log', nonposy='clip')\n",
        "plt.title('Log-Histogram of question appearance counts')\n",
        "plt.xlabel('Number of occurences of question')\n",
        "plt.ylabel('Number of questions')\n",
        "print()"
      ],
      "execution_count": 5,
      "outputs": [
        {
          "output_type": "stream",
          "text": [
            "Total number of question pairs for training: 404290\n",
            "Duplicate pairs: 36.92%\n",
            "Total number of questions in the training data: 537933\n",
            "Number of questions that appear multiple times: 111780\n",
            "\n"
          ],
          "name": "stdout"
        },
        {
          "output_type": "display_data",
          "data": {
            "image/png": "[encoded data removed]",
            "text/plain": [
              "<matplotlib.figure.Figure at 0x7fb32721f390>"
            ]
          },
          "metadata": {
            "tags": []
          }
        }
      ]
    },
    {
      "metadata": {
        "id": "En0SLZDzMZUa",
        "colab_type": "code",
        "outputId": "1885b6fe-19fa-4684-f4d7-e8309d160324",
        "colab": {
          "base_uri": "https://localhost:8080/",
          "height": 258
        }
      },
      "cell_type": "code",
      "source": [
        "df_test = pd.read_csv('drive/My Drive/ANLY 580/test.csv')\n",
        "df_test.head()"
      ],
      "execution_count": 6,
      "outputs": [
        {
          "output_type": "stream",
          "text": [
            "/usr/local/lib/python3.6/dist-packages/IPython/core/interactiveshell.py:2718: DtypeWarning: Columns (0) have mixed types. Specify dtype option on import or set low_memory=False.\n",
            "  interactivity=interactivity, compiler=compiler, result=result)\n"
          ],
          "name": "stderr"
        },
        {
          "output_type": "execute_result",
          "data": {
            "text/html": [
              "<div>\n",
              "<style scoped>\n",
              "    .dataframe tbody tr th:only-of-type {\n",
              "        vertical-align: middle;\n",
              "    }\n",
              "\n",
              "    .dataframe tbody tr th {\n",
              "        vertical-align: top;\n",
              "    }\n",
              "\n",
              "    .dataframe thead th {\n",
              "        text-align: right;\n",
              "    }\n",
              "</style>\n",
              "<table border=\"1\" class=\"dataframe\">\n",
              "  <thead>\n",
              "    <tr style=\"text-align: right;\">\n",
              "      <th></th>\n",
              "      <th>test_id</th>\n",
              "      <th>question1</th>\n",
              "      <th>question2</th>\n",
              "    </tr>\n",
              "  </thead>\n",
              "  <tbody>\n",
              "    <tr>\n",
              "      <th>0</th>\n",
              "      <td>0</td>\n",
              "      <td>How does the Surface Pro himself 4 compare wit...</td>\n",
              "      <td>Why did Microsoft choose core m3 and not core ...</td>\n",
              "    </tr>\n",
              "    <tr>\n",
              "      <th>1</th>\n",
              "      <td>1</td>\n",
              "      <td>Should I have a hair transplant at age 24? How...</td>\n",
              "      <td>How much cost does hair transplant require?</td>\n",
              "    </tr>\n",
              "    <tr>\n",
              "      <th>2</th>\n",
              "      <td>2</td>\n",
              "      <td>What but is the best way to send money from Ch...</td>\n",
              "      <td>What you send money to China?</td>\n",
              "    </tr>\n",
              "    <tr>\n",
              "      <th>3</th>\n",
              "      <td>3</td>\n",
              "      <td>Which food not emulsifiers?</td>\n",
              "      <td>What foods fibre?</td>\n",
              "    </tr>\n",
              "    <tr>\n",
              "      <th>4</th>\n",
              "      <td>4</td>\n",
              "      <td>How \"aberystwyth\" start reading?</td>\n",
              "      <td>How their can I start reading?</td>\n",
              "    </tr>\n",
              "  </tbody>\n",
              "</table>\n",
              "</div>"
            ],
            "text/plain": [
              "  test_id                                          question1  \\\n",
              "0       0  How does the Surface Pro himself 4 compare wit...   \n",
              "1       1  Should I have a hair transplant at age 24? How...   \n",
              "2       2  What but is the best way to send money from Ch...   \n",
              "3       3                        Which food not emulsifiers?   \n",
              "4       4                   How \"aberystwyth\" start reading?   \n",
              "\n",
              "                                           question2  \n",
              "0  Why did Microsoft choose core m3 and not core ...  \n",
              "1        How much cost does hair transplant require?  \n",
              "2                      What you send money to China?  \n",
              "3                                  What foods fibre?  \n",
              "4                     How their can I start reading?  "
            ]
          },
          "metadata": {
            "tags": []
          },
          "execution_count": 6
        }
      ]
    },
    {
      "metadata": {
        "id": "KnaVBb0AIFM8",
        "colab_type": "code",
        "colab": {}
      },
      "cell_type": "code",
      "source": [
        "train_qs = pd.Series(df_train['question1'].tolist() + df_train['question2'].tolist()).astype(str)\n",
        "test_qs = pd.Series(df_test['question1'].tolist() + df_test['question2'].tolist()).astype(str)"
      ],
      "execution_count": 0,
      "outputs": []
    },
    {
      "metadata": {
        "id": "UOpCgO5fIRLj",
        "colab_type": "code",
        "colab": {}
      },
      "cell_type": "code",
      "source": [
        "import os\n",
        "import re\n",
        "import csv\n",
        "import codecs\n",
        "from string import punctuation\n",
        "from nltk.corpus import stopwords\n",
        "\n",
        "def text_to_wordlist(text, remove_stopwords=False, stem_words=False):\n",
        "    # Clean the text, with the option to remove stopwords and to stem words.\n",
        "    \n",
        "    # Convert words to lower case and split them\n",
        "    text = text.lower().split()\n",
        "\n",
        "    # Optionally, remove stop words\n",
        "    if remove_stopwords:\n",
        "        stops = set(stopwords.words(\"english\"))\n",
        "        text = [w for w in text if not w in stops]\n",
        "    \n",
        "    text = \" \".join(text)\n",
        "\n",
        "    # Clean the text\n",
        "    text = re.sub(r\"[^A-Za-z0-9]\", \" \", text)\n",
        "    text = re.sub(r\"what's\", \"\", text)\n",
        "    text = re.sub(r\"What's\", \"\", text)\n",
        "    text = re.sub(r\"\\'s\", \" \", text)\n",
        "    text = re.sub(r\"\\'ve\", \" have \", text)\n",
        "    text = re.sub(r\"can't\", \"cannot \", text)\n",
        "    text = re.sub(r\"n't\", \" not \", text)\n",
        "    text = re.sub(r\"I'm\", \"I am\", text)\n",
        "    text = re.sub(r\" m \", \" am \", text)\n",
        "    text = re.sub(r\"\\'re\", \" are \", text)\n",
        "    text = re.sub(r\"\\'d\", \" would \", text)\n",
        "    text = re.sub(r\"\\'ll\", \" will \", text)\n",
        "    text = re.sub(r\"\\0k \", \"0000 \", text)\n",
        "    text = re.sub(r\" e g \", \" eg \", text)\n",
        "    text = re.sub(r\" b g \", \" bg \", text)\n",
        "    text = re.sub(r\"\\0s\", \"0\", text)\n",
        "    text = re.sub(r\" 9 11 \", \"911\", text)\n",
        "    text = re.sub(r\"e-mail\", \"email\", text)\n",
        "    text = re.sub(r\"\\s{2,}\", \" \", text)\n",
        "    text = re.sub(r\"quikly\", \"quickly\", text)\n",
        "    text = re.sub(r\" usa \", \" America \", text)\n",
        "    text = re.sub(r\" USA \", \" America \", text)\n",
        "    text = re.sub(r\" u s \", \" America \", text)\n",
        "    text = re.sub(r\" uk \", \" England \", text)\n",
        "    text = re.sub(r\" UK \", \" England \", text)\n",
        "    text = re.sub(r\"india\", \"India\", text)\n",
        "    text = re.sub(r\"china\", \"China\", text)\n",
        "    text = re.sub(r\"chinese\", \"Chinese\", text) \n",
        "    text = re.sub(r\"imrovement\", \"improvement\", text)\n",
        "    text = re.sub(r\"intially\", \"initially\", text)\n",
        "    text = re.sub(r\"quora\", \"Quora\", text)\n",
        "    text = re.sub(r\" dms \", \"direct messages \", text)  \n",
        "    text = re.sub(r\"demonitization\", \"demonetization\", text) \n",
        "    text = re.sub(r\"actived\", \"active\", text)\n",
        "    text = re.sub(r\"kms\", \" kilometers \", text)\n",
        "    text = re.sub(r\"KMs\", \" kilometers \", text)\n",
        "    text = re.sub(r\" cs \", \" computer science \", text) \n",
        "    text = re.sub(r\" upvotes \", \" up votes \", text)\n",
        "    text = re.sub(r\" iPhone \", \" phone \", text)\n",
        "    text = re.sub(r\"\\0rs \", \" rs \", text) \n",
        "    text = re.sub(r\"calender\", \"calendar\", text)\n",
        "    text = re.sub(r\"ios\", \"operating system\", text)\n",
        "    text = re.sub(r\"gps\", \"GPS\", text)\n",
        "    text = re.sub(r\"gst\", \"GST\", text)\n",
        "    text = re.sub(r\"programing\", \"programming\", text)\n",
        "    text = re.sub(r\"bestfriend\", \"best friend\", text)\n",
        "    text = re.sub(r\"dna\", \"DNA\", text)\n",
        "    text = re.sub(r\"III\", \"3\", text) \n",
        "    text = re.sub(r\"the US\", \"America\", text)\n",
        "    text = re.sub(r\"Astrology\", \"astrology\", text)\n",
        "    text = re.sub(r\"Method\", \"method\", text)\n",
        "    text = re.sub(r\"Find\", \"find\", text) \n",
        "    text = re.sub(r\"banglore\", \"Banglore\", text)\n",
        "    text = re.sub(r\" J K \", \" JK \", text)\n",
        "                  \n",
        "    # Remove punctuation from text\n",
        "    text = ''.join([c for c in text if c not in punctuation])\n",
        "    \n",
        "    # Optionally, shorten words to their stems\n",
        "    if stem_words:\n",
        "        text = text.split()\n",
        "        stemmer = SnowballStemmer('english')\n",
        "        stemmed_words = [stemmer.stem(word) for word in text]\n",
        "        text = \" \".join(stemmed_words)\n",
        "    \n",
        "    # Return a list of words\n",
        "    return(text)\n",
        "\n"
      ],
      "execution_count": 0,
      "outputs": []
    },
    {
      "metadata": {
        "id": "KgCUi72Ou1Y-",
        "colab_type": "code",
        "colab": {
          "base_uri": "https://localhost:8080/",
          "height": 34
        },
        "outputId": "7d31bb0e-0847-465f-8cc9-7a6e597f9ca4"
      },
      "cell_type": "code",
      "source": [
        "texts_1 = [] \n",
        "texts_2 = []\n",
        "labels = []\n",
        "with codecs.open(\"drive/My Drive/ANLY 580/train.csv\", encoding='utf-8') as f:\n",
        "    reader = csv.reader(f, delimiter=',')\n",
        "    header = next(reader)\n",
        "    for values in reader:\n",
        "        texts_1.append(text_to_wordlist(values[3]))\n",
        "        texts_2.append(text_to_wordlist(values[4]))\n",
        "        labels.append(int(values[5]))\n",
        "print('Found %s texts in train.csv' % len(texts_1))"
      ],
      "execution_count": 12,
      "outputs": [
        {
          "output_type": "stream",
          "text": [
            "Found 404290 texts in train.csv\n"
          ],
          "name": "stdout"
        }
      ]
    },
    {
      "metadata": {
        "id": "PdXJjFQQMrap",
        "colab_type": "code",
        "outputId": "cd1849d3-4cb1-42c5-d1ae-177afe2f28b5",
        "colab": {
          "base_uri": "https://localhost:8080/",
          "height": 34
        }
      },
      "cell_type": "code",
      "source": [
        "test_texts_1 = [] \n",
        "test_texts_2 = []\n",
        "test_ids = []\n",
        "with codecs.open(\"drive/My Drive/ANLY 580/test.csv\", encoding='utf-8') as f:\n",
        "    reader = csv.reader(f, delimiter=',')\n",
        "    header = next(reader)\n",
        "    for values in reader:\n",
        "      if len(values) >= 3:\n",
        "        test_texts_1.append(text_to_wordlist(values[1]))\n",
        "        test_texts_2.append(text_to_wordlist(values[2]))\n",
        "        test_ids.append(values[0])\n",
        "\n",
        "print('Found %s texts in test.csv' % len(test_texts_1))"
      ],
      "execution_count": 14,
      "outputs": [
        {
          "output_type": "stream",
          "text": [
            "Found 3563474 texts in test.csv\n"
          ],
          "name": "stdout"
        }
      ]
    },
    {
      "metadata": {
        "id": "ySYBkC8LYGzC",
        "colab_type": "code",
        "outputId": "62ba8915-7642-42ef-e245-891271ecb787",
        "colab": {
          "base_uri": "https://localhost:8080/",
          "height": 51
        }
      },
      "cell_type": "code",
      "source": [
        "from keras.preprocessing.text import Tokenizer\n",
        "\n",
        "tokenizer = Tokenizer(num_words=200000)\n",
        "tokenizer.fit_on_texts(texts_1 + texts_2 + test_texts_1 + test_texts_2)\n",
        "\n",
        "sequences_1 = tokenizer.texts_to_sequences(texts_1)\n",
        "sequences_2 = tokenizer.texts_to_sequences(texts_2)\n",
        "test_sequences_1 = tokenizer.texts_to_sequences(test_texts_1)\n",
        "test_sequences_2 = tokenizer.texts_to_sequences(test_texts_2)\n",
        "\n",
        "word_index = tokenizer.word_index\n",
        "print('Found %s unique tokens' % len(word_index))"
      ],
      "execution_count": 15,
      "outputs": [
        {
          "output_type": "stream",
          "text": [
            "Using TensorFlow backend.\n"
          ],
          "name": "stderr"
        },
        {
          "output_type": "stream",
          "text": [
            "Found 120325 unique tokens\n"
          ],
          "name": "stdout"
        }
      ]
    },
    {
      "metadata": {
        "id": "1roaxe_nYN3Y",
        "colab_type": "code",
        "outputId": "0c5cf877-9ada-49dc-c9d5-7a09e8a5703e",
        "colab": {
          "base_uri": "https://localhost:8080/",
          "height": 51
        }
      },
      "cell_type": "code",
      "source": [
        "from keras.preprocessing.sequence import pad_sequences\n",
        "\n",
        "data_1 = pad_sequences(sequences_1, maxlen=30)\n",
        "data_2 = pad_sequences(sequences_2, maxlen=30)\n",
        "labels = np.array(labels)\n",
        "print('Shape of data tensor:', data_1.shape)\n",
        "print('Shape of label tensor:', labels.shape)\n",
        "\n",
        "test_data_1 = pad_sequences(test_sequences_1, maxlen=30)\n",
        "test_data_2 = pad_sequences(test_sequences_2, maxlen=30)\n",
        "test_ids = np.array(test_ids)"
      ],
      "execution_count": 16,
      "outputs": [
        {
          "output_type": "stream",
          "text": [
            "Shape of data tensor: (404290, 30)\n",
            "Shape of label tensor: (404290,)\n"
          ],
          "name": "stdout"
        }
      ]
    },
    {
      "metadata": {
        "id": "HiJOtZ11fVDq",
        "colab_type": "text"
      },
      "cell_type": "markdown",
      "source": [
        "### Basic CNN Model"
      ]
    },
    {
      "metadata": {
        "id": "lKEVyBJ_YOqz",
        "colab_type": "code",
        "colab": {
          "base_uri": "https://localhost:8080/",
          "height": 697
        },
        "outputId": "b14a7c64-1b54-4afe-bf28-1f27a14ff733"
      },
      "cell_type": "code",
      "source": [
        "from keras.models import Sequential, Model\n",
        "from keras.layers import Dense, Dropout, Flatten, Input, MaxPooling1D, Conv1D, Conv2D, Embedding, Dot\n",
        "from keras.layers.merge import Concatenate\n",
        "from keras import backend as K\n",
        "\n",
        "input1 = Input((data_1.shape[1],))\n",
        "input2 = Input((data_2.shape[1],))\n",
        "Embedding_matrix = Embedding(len(word_index)+1, 300, input_length=data_1.shape[1], name=\"embedding\")\n",
        "z1 = Embedding_matrix(input1)\n",
        "z2 = Embedding_matrix(input2)\n",
        "    \n",
        "Conv = Conv1D(filters=200,\n",
        "                    kernel_size=3,\n",
        "                    padding=\"valid\",\n",
        "                    activation=\"relu\",\n",
        "                    strides=1)\n",
        "conv1 = Conv(z1)\n",
        "conv2 = Conv(z2)\n",
        "conv1 = MaxPooling1D(pool_size=2)(conv1)\n",
        "conv2 = MaxPooling1D(pool_size=2)(conv2)\n",
        "conv1 = Flatten()(conv1)\n",
        "conv2 = Flatten()(conv2)\n",
        "similar_score = Dense(2800, activation=None)(conv1)\n",
        "similar_score = Dot(1)([similar_score, conv2])\n",
        "z = Concatenate()([conv1, similar_score, conv2])\n",
        "z = Dropout(0.8)(z)\n",
        "z = Dense(300, activation=\"relu\")(z)\n",
        "model_output = Dense(1, activation=\"sigmoid\")(z)\n",
        "model = Model([input1, input2], model_output)\n",
        "model.compile(loss=\"binary_crossentropy\", optimizer=\"adam\", metrics=[\"accuracy\"])\n",
        "model.summary()"
      ],
      "execution_count": 44,
      "outputs": [
        {
          "output_type": "stream",
          "text": [
            "__________________________________________________________________________________________________\n",
            "Layer (type)                    Output Shape         Param #     Connected to                     \n",
            "==================================================================================================\n",
            "input_34 (InputLayer)           (None, 30)           0                                            \n",
            "__________________________________________________________________________________________________\n",
            "embedding (Embedding)           (None, 30, 300)      36097800    input_34[0][0]                   \n",
            "                                                                 input_35[0][0]                   \n",
            "__________________________________________________________________________________________________\n",
            "input_35 (InputLayer)           (None, 30)           0                                            \n",
            "__________________________________________________________________________________________________\n",
            "conv1d_70 (Conv1D)              (None, 28, 200)      180200      embedding[0][0]                  \n",
            "                                                                 embedding[1][0]                  \n",
            "__________________________________________________________________________________________________\n",
            "max_pooling1d_7 (MaxPooling1D)  (None, 14, 200)      0           conv1d_70[0][0]                  \n",
            "__________________________________________________________________________________________________\n",
            "flatten_7 (Flatten)             (None, 2800)         0           max_pooling1d_7[0][0]            \n",
            "__________________________________________________________________________________________________\n",
            "max_pooling1d_8 (MaxPooling1D)  (None, 14, 200)      0           conv1d_70[1][0]                  \n",
            "__________________________________________________________________________________________________\n",
            "dense_28 (Dense)                (None, 2800)         7842800     flatten_7[0][0]                  \n",
            "__________________________________________________________________________________________________\n",
            "flatten_8 (Flatten)             (None, 2800)         0           max_pooling1d_8[0][0]            \n",
            "__________________________________________________________________________________________________\n",
            "dot_4 (Dot)                     (None, 1)            0           dense_28[0][0]                   \n",
            "                                                                 flatten_8[0][0]                  \n",
            "__________________________________________________________________________________________________\n",
            "concatenate_21 (Concatenate)    (None, 5601)         0           flatten_7[0][0]                  \n",
            "                                                                 dot_4[0][0]                      \n",
            "                                                                 flatten_8[0][0]                  \n",
            "__________________________________________________________________________________________________\n",
            "dropout_15 (Dropout)            (None, 5601)         0           concatenate_21[0][0]             \n",
            "__________________________________________________________________________________________________\n",
            "dense_29 (Dense)                (None, 300)          1680600     dropout_15[0][0]                 \n",
            "__________________________________________________________________________________________________\n",
            "dense_30 (Dense)                (None, 1)            301         dense_29[0][0]                   \n",
            "==================================================================================================\n",
            "Total params: 45,801,701\n",
            "Trainable params: 45,801,701\n",
            "Non-trainable params: 0\n",
            "__________________________________________________________________________________________________\n"
          ],
          "name": "stdout"
        }
      ]
    },
    {
      "metadata": {
        "id": "y7ut8fXxF6Nm",
        "colab_type": "text"
      },
      "cell_type": "markdown",
      "source": [
        "### Model Training"
      ]
    },
    {
      "metadata": {
        "id": "VY4SisGDYXrv",
        "colab_type": "code",
        "outputId": "87a1f2c4-9a6a-48d6-c583-c2462ee494db",
        "colab": {
          "base_uri": "https://localhost:8080/",
          "height": 119
        }
      },
      "cell_type": "code",
      "source": [
        "model_training = model.fit([data_1, data_2], labels, batch_size=128, epochs=3)"
      ],
      "execution_count": 45,
      "outputs": [
        {
          "output_type": "stream",
          "text": [
            "Epoch 1/3\n",
            "404290/404290 [==============================] - 231s 570us/step - loss: 0.4990 - acc: 0.7554\n",
            "Epoch 2/3\n",
            "404290/404290 [==============================] - 228s 564us/step - loss: 0.4225 - acc: 0.8008\n",
            "Epoch 3/3\n",
            "404290/404290 [==============================] - 228s 565us/step - loss: 0.3761 - acc: 0.8258\n"
          ],
          "name": "stdout"
        }
      ]
    },
    {
      "metadata": {
        "id": "VebX2H8qPOAw",
        "colab_type": "code",
        "colab": {}
      },
      "cell_type": "code",
      "source": [
        "predict_label = model.predict([test_data_1, test_data_2])"
      ],
      "execution_count": 0,
      "outputs": []
    },
    {
      "metadata": {
        "id": "1nM3Z3M1lrzy",
        "colab_type": "code",
        "colab": {
          "base_uri": "https://localhost:8080/",
          "height": 51
        },
        "outputId": "8ab6ae9a-35d5-47ec-95d3-beb35db3ff02"
      },
      "cell_type": "code",
      "source": [
        "submission_df = {\"test_id\": test_ids, \"is_duplicate\": predict_label[:,0]}\n",
        "submission = pd.DataFrame(submission_df)\n",
        "print(len(submission))\n",
        "submission = submission.drop_duplicates()\n",
        "print(len(submission))\n",
        "submission.to_csv(\"submission.csv\", index=False)"
      ],
      "execution_count": 47,
      "outputs": [
        {
          "output_type": "stream",
          "text": [
            "3563474\n",
            "2345796\n"
          ],
          "name": "stdout"
        }
      ]
    },
    {
      "metadata": {
        "id": "rBkhb3hxnUX9",
        "colab_type": "code",
        "outputId": "dddb9658-a776-49c2-8a24-f48a1133b342",
        "colab": {
          "base_uri": "https://localhost:8080/",
          "height": 68
        }
      },
      "cell_type": "code",
      "source": [
        "\n",
        "print(len(submission))\n",
        "print(len(df_test))\n",
        "submission = submission.drop_duplicates()\n",
        "print(len(submission))"
      ],
      "execution_count": 0,
      "outputs": [
        {
          "output_type": "stream",
          "text": [
            "3563474\n",
            "3563475\n",
            "2345796\n"
          ],
          "name": "stdout"
        }
      ]
    },
    {
      "metadata": {
        "id": "Gquu9Xp4fgMX",
        "colab_type": "text"
      },
      "cell_type": "markdown",
      "source": [
        "### Random Forest Tree\n"
      ]
    },
    {
      "metadata": {
        "id": "owhoRUdoIyVj",
        "colab_type": "code",
        "colab": {
          "base_uri": "https://localhost:8080/",
          "height": 105
        },
        "outputId": "5969c4d5-229f-491a-df54-36ac9c6e10b7"
      },
      "cell_type": "code",
      "source": [
        "import nltk\n",
        "nltk.download('stopwords')\n",
        "from string import punctuation\n",
        "import re\n",
        "from nltk.stem import SnowballStemmer\n",
        "from subprocess import check_output\n",
        "\n",
        "train=pd.read_csv(\"drive/My Drive/ANLY 580/train.csv\")\n",
        "test=pd.read_csv(\"drive/My Drive/ANLY 580/test.csv\")\n",
        "\n",
        "\n",
        "def convert_lower(data):\n",
        "    data.question1=data.question1.str.lower()\n",
        "    data.question2=data.question2.str.lower()\n",
        "    data.question1=data.question1.astype(str)\n",
        "    data.question2=data.question2.astype(str)\n",
        "    return data\n",
        "train=convert_lower(train)\n",
        "test=convert_lower(test)\n",
        "\n",
        "def process_questions(data,remove_stop_words=True,stem_words=False):\n",
        "    question1=[]\n",
        "    question2=[]\n",
        "    for question in data.question1:\n",
        "        question1.append(text_to_wordlist(question,remove_stop_words,stem_words))\n",
        "    for question in data.question2:\n",
        "        question2.append(text_to_wordlist(question,remove_stop_words,stem_words))\n",
        "    data.question1=question1\n",
        "    data.question2=question2\n",
        "    return data\n",
        "\n",
        "train=process_questions(train,stem_words=False)\n",
        "test=process_questions(test)\n",
        "\n",
        "def normalized_word_share(row):\n",
        "    w1=set(map(lambda word: word.lower().strip(),row['question1'].split(\" \")))\n",
        "    w2=set(map(lambda word: word.lower().strip(),row['question2'].split(\" \")))    \n",
        "    return 1.0 * len(w1&w2)/(len(w1)+len(w2))\n",
        "def addnewattribute(data):\n",
        "    data['q1len']=data['question1'].str.len()\n",
        "    data['q2len']=data['question2'].str.len()\n",
        "    data['word_share']=data.apply(normalized_word_share,axis=1)\n",
        "    return data\n",
        "\n",
        "train=addnewattribute(train)\n",
        "test=addnewattribute(test)\n",
        "\n",
        "X_attr=['q1len','q2len','word_share']\n",
        "Y_attr=['is_duplicate']\n",
        "\n",
        "X_train=train[X_attr]\n",
        "X_test=test[X_attr]\n",
        "Y_train=train[Y_attr]"
      ],
      "execution_count": 21,
      "outputs": [
        {
          "output_type": "stream",
          "text": [
            "[nltk_data] Downloading package stopwords to /root/nltk_data...\n",
            "[nltk_data]   Package stopwords is already up-to-date!\n"
          ],
          "name": "stdout"
        },
        {
          "output_type": "stream",
          "text": [
            "/usr/local/lib/python3.6/dist-packages/IPython/core/interactiveshell.py:2718: DtypeWarning: Columns (0) have mixed types. Specify dtype option on import or set low_memory=False.\n",
            "  interactivity=interactivity, compiler=compiler, result=result)\n"
          ],
          "name": "stderr"
        }
      ]
    },
    {
      "metadata": {
        "id": "jdek880xO8Ti",
        "colab_type": "code",
        "colab": {
          "base_uri": "https://localhost:8080/",
          "height": 119
        },
        "outputId": "cda3e7bc-1e12-4efb-de8a-ce5a6d8b588e"
      },
      "cell_type": "code",
      "source": [
        "from sklearn.metrics import log_loss\n",
        "from sklearn.ensemble import RandomForestClassifier\n",
        "\n",
        "\n",
        "clf = RandomForestClassifier(n_estimators=500, criterion='gini', max_depth=None, \n",
        "       min_samples_split=2, min_samples_leaf=100, min_weight_fraction_leaf=0.0, \n",
        "       max_features='sqrt', max_leaf_nodes=None, bootstrap=True, oob_score=True, \n",
        "       n_jobs=1, random_state=1, verbose=0, warm_start=False, class_weight=None)\n",
        "\n",
        "clf.fit(X_train,Y_train.values.ravel())"
      ],
      "execution_count": 22,
      "outputs": [
        {
          "output_type": "execute_result",
          "data": {
            "text/plain": [
              "RandomForestClassifier(bootstrap=True, class_weight=None, criterion='gini',\n",
              "            max_depth=None, max_features='sqrt', max_leaf_nodes=None,\n",
              "            min_impurity_decrease=0.0, min_impurity_split=None,\n",
              "            min_samples_leaf=100, min_samples_split=2,\n",
              "            min_weight_fraction_leaf=0.0, n_estimators=500, n_jobs=1,\n",
              "            oob_score=True, random_state=1, verbose=0, warm_start=False)"
            ]
          },
          "metadata": {
            "tags": []
          },
          "execution_count": 22
        }
      ]
    },
    {
      "metadata": {
        "id": "glg9xoKIOLVc",
        "colab_type": "code",
        "colab": {
          "base_uri": "https://localhost:8080/",
          "height": 51
        },
        "outputId": "fbdf0f8e-9aa3-4ee0-b299-174c31a6b637"
      },
      "cell_type": "code",
      "source": [
        "p=clf.predict_proba(X_test)\n",
        "submission=pd.DataFrame()\n",
        "submission['test_id']=test['test_id']\n",
        "submission['is_duplicate']=p[:,1]\n",
        "\n",
        "print(len(submission))\n",
        "len(submission['test_id'])\n",
        "test_id = submission['test_id']\n",
        "len(test_id.drop_duplicates())\n",
        "submission_rf = submission[:2345796]\n",
        "print(len(submission_rf))\n",
        "submission_rf.to_csv(\"submission_rf.csv\", index=False)"
      ],
      "execution_count": 23,
      "outputs": [
        {
          "output_type": "stream",
          "text": [
            "3563475\n",
            "2345796\n"
          ],
          "name": "stdout"
        }
      ]
    },
    {
      "metadata": {
        "id": "3HDZhGr2-_5P",
        "colab_type": "text"
      },
      "cell_type": "markdown",
      "source": [
        "### MLP NN"
      ]
    },
    {
      "metadata": {
        "id": "KmTamhQH_g4d",
        "colab_type": "code",
        "colab": {
          "base_uri": "https://localhost:8080/",
          "height": 136
        },
        "outputId": "c4b37fc2-160e-4a4a-df82-a75b47a2f0fb"
      },
      "cell_type": "code",
      "source": [
        "from sklearn.neural_network import MLPClassifier\n",
        "\n",
        "clf = MLPClassifier(activation='relu', alpha=1e-05, batch_size='auto',\n",
        "       beta_1=0.9, beta_2=0.999, early_stopping=False,\n",
        "       epsilon=1e-08, hidden_layer_sizes=(5,2), learning_rate='constant',\n",
        "       learning_rate_init=0.001, max_iter=300, momentum=0.9,\n",
        "       nesterovs_momentum=True, power_t=0.5, random_state=1, shuffle=True,\n",
        "       solver='adam', tol=0.001, validation_fraction=0.1, verbose=False,\n",
        "       warm_start=False)\n",
        "\n",
        "clf.fit(X_train,Y_train.values.ravel())"
      ],
      "execution_count": 24,
      "outputs": [
        {
          "output_type": "execute_result",
          "data": {
            "text/plain": [
              "MLPClassifier(activation='relu', alpha=1e-05, batch_size='auto', beta_1=0.9,\n",
              "       beta_2=0.999, early_stopping=False, epsilon=1e-08,\n",
              "       hidden_layer_sizes=(5, 2), learning_rate='constant',\n",
              "       learning_rate_init=0.001, max_iter=300, momentum=0.9,\n",
              "       nesterovs_momentum=True, power_t=0.5, random_state=1, shuffle=True,\n",
              "       solver='adam', tol=0.001, validation_fraction=0.1, verbose=False,\n",
              "       warm_start=False)"
            ]
          },
          "metadata": {
            "tags": []
          },
          "execution_count": 24
        }
      ]
    },
    {
      "metadata": {
        "id": "P7RZlBx-ADdM",
        "colab_type": "code",
        "colab": {
          "base_uri": "https://localhost:8080/",
          "height": 51
        },
        "outputId": "7ca7e3a1-5632-4a40-af13-b605cd63a8e8"
      },
      "cell_type": "code",
      "source": [
        "p=clf.predict_proba(X_test)\n",
        "submission=pd.DataFrame()\n",
        "submission['test_id']=test['test_id']\n",
        "submission['is_duplicate']=p[:,1]\n",
        "\n",
        "print(len(submission))\n",
        "len(submission['test_id'])\n",
        "test_id = submission['test_id']\n",
        "len(test_id.drop_duplicates())\n",
        "submission_mlp = submission[:2345796]\n",
        "print(len(submission_mlp))\n",
        "submission_mlp.to_csv(\"submission_mlp.csv\", index=False)"
      ],
      "execution_count": 25,
      "outputs": [
        {
          "output_type": "stream",
          "text": [
            "3563475\n",
            "2345796\n"
          ],
          "name": "stdout"
        }
      ]
    }
  ]
}